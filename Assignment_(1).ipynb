{
  "cells": [
    {
      "cell_type": "markdown",
      "id": "02944396",
      "metadata": {
        "id": "02944396"
      },
      "source": [
        "# Assignment"
      ]
    },
    {
      "cell_type": "code",
      "execution_count": null,
      "id": "c9652bc6",
      "metadata": {
        "id": "c9652bc6"
      },
      "outputs": [],
      "source": [
        "# Import \n",
        "\n",
        "import numpy as np\n",
        "import matplotlib.pyplot as plt\n",
        "from degree_freedom_queen import *\n",
        "from degree_freedom_king1 import *\n",
        "from degree_freedom_king2 import *\n",
        "from generate_game import *\n",
        "from Chess_env import *\n",
        "import numpy.matlib\n",
        "\n",
        "size_board = 4"
      ]
    },
    {
      "cell_type": "markdown",
      "id": "0bceca7c",
      "metadata": {
        "id": "0bceca7c"
      },
      "source": [
        "## The Environment\n",
        "\n",
        "You can find the environment in the file Chess_env, which contains the class Chess_env. To define an object, you need to provide the board size considered as input. In our example, size_board=4. \n",
        "Chess_env is composed by the following methods:\n",
        "\n",
        "1. Initialise_game. The method initialises an episode by placing the three pieces considered (Agent's king and queen, enemy's king) in the chess board. The outputs of the method are described below in order.\n",
        "\n",
        "     S $\\;$ A matrix representing the board locations filled with 4 numbers: 0, no piece in that position; 1, location of the \n",
        "     agent's king; 2 location of the queen; 3 location of the enemy king.\n",
        "     \n",
        "     X $\\;$ The features, that is the input to the neural network. See the assignment for more information regarding the            definition of the features adopted. To personalise this, go into the Features method of the class Chess_env() and change        accordingly.\n",
        "     \n",
        "     allowed_a $\\;$ The allowed actions that the agent can make. The agent is moving a king, with a total number of 8                possible actions, and a queen, with a total number of $(board_{size}-1)\\times 8$ actions. The total number of possible actions correspond      to the sum of the two, but not all actions are allowed in a given position (movements to locations outside the borders or      against chess rules). Thus, the variable allowed_a is a vector that is one (zero) for an action that the agent can (can't)      make. Be careful, apply the policy considered on the actions that are allowed only.\n",
        "     \n",
        "\n",
        "2. OneStep. The method performs a one step update of the system. Given as input the action selected by the agent, it updates the chess board by performing that action and the response of the enemy king (which is a random allowed action in the settings considered). The first three outputs are the same as for the Initialise_game method, but the variables are computed for the position reached after the update of the system. The fourth and fifth outputs are:\n",
        "\n",
        "     R $\\;$ The reward. To change this, look at the OneStep method of the class where the rewards are set.\n",
        "     \n",
        "     Done $\\;$ A variable that is 1 if the episode has ended (checkmate or draw).\n",
        "     \n",
        "     \n",
        "3. Features. Given the chessboard position, the method computes the features.\n",
        "\n",
        "This information and a quick analysis of the class should be all you need to get going. The other functions that the class exploits are uncommented and constitute an example on how not to write a python code. You can take a look at them if you want, but it is not necessary.\n",
        "\n",
        "\n",
        "\n",
        "\n"
      ]
    },
    {
      "cell_type": "code",
      "execution_count": 25,
      "id": "9593a299",
      "metadata": {
        "id": "9593a299"
      },
      "outputs": [],
      "source": [
        "## INITIALISE THE ENVIRONMENT\n",
        "\n",
        "env=Chess_Env(size_board)"
      ]
    },
    {
      "cell_type": "code",
      "source": [
        "def Q_values(x, W1, W2, bias_W1, bias_W2):\n",
        "\n",
        "    # Neural activation: input layer -> hidden layer\n",
        "    act1 = np.dot(W1, x) + bias_W1\n",
        "    # print(act1)\n",
        "    out1 =  np.maximum(act1, 0)\n",
        "    # Neural activation: hidden layer -> output layer\n",
        "    act2 = np.dot(W2, out1) + bias_W2\n",
        "    # print(act2)\n",
        "    Q =  np.maximum(act2, 0)\n",
        "\n",
        "\n",
        "\n",
        "    # YOUR CODE ENDS HERE\n",
        "    return Q, out1"
      ],
      "metadata": {
        "id": "d4o7zyKbjpj5"
      },
      "id": "d4o7zyKbjpj5",
      "execution_count": 26,
      "outputs": []
    },
    {
      "cell_type": "code",
      "execution_count": 27,
      "id": "ece20429",
      "metadata": {
        "colab": {
          "base_uri": "https://localhost:8080/"
        },
        "id": "ece20429",
        "outputId": "40a63cd2-891e-4b66-fe7f-e7589ef05757"
      },
      "outputs": [
        {
          "output_type": "stream",
          "name": "stdout",
          "text": [
            "(200, 58)\n"
          ]
        }
      ],
      "source": [
        "# INITIALISE THE PARAMETERS OF YOUR NEURAL NETWORK AND...\n",
        "# PLEASE CONSIDER TO USE A MASK OF ONE FOR THE ACTION MADE AND ZERO OTHERWISE IF YOU ARE NOT USING VANILLA GRADIENT DESCENT...\n",
        "# WE SUGGEST A NETWORK WITH ONE HIDDEN LAYER WITH SIZE 200. \n",
        "\n",
        "\n",
        "S,X,allowed_a=env.Initialise_game()\n",
        "N_a=np.shape(allowed_a)[0]   # TOTAL NUMBER OF POSSIBLE ACTIONS\n",
        "\n",
        "\n",
        "N_in=np.shape(X)[0]    ## INPUT SIZE\n",
        "N_h=200                ## NUMBER OF HIDDEN NODES\n",
        "\n",
        "## INITALISE YOUR NEURAL NETWORK...\n",
        "W1=np.random.uniform(0,1,(N_h,N_in))\n",
        "print(W1.shape)\n",
        "\n",
        "W1=np.divide(W1,np.matlib.repmat(np.sum(W1,1)[:,None],1,N_in))\n",
        "# print(W1.shape)\n",
        "\n",
        "W2=np.random.uniform(0,1,(N_a,N_h))\n",
        "# print(W2.shape)\n",
        "\n",
        "W2=np.divide(W2,np.matlib.repmat(np.sum(W2,1)[:,None],1,N_h))\n",
        "\n",
        "bias_W1 = np.zeros((N_h,1))\n",
        "bias_W2 = np.zeros((N_a,1))\n",
        "\n",
        "# HYPERPARAMETERS SUGGESTED (FOR A GRID SIZE OF 4)\n",
        "\n",
        "epsilon_0 = 0.2     # STARTING VALUE OF EPSILON FOR THE EPSILON-GREEDY POLICY\n",
        "beta = 0.00005      # THE PARAMETER SETS HOW QUICKLY THE VALUE OF EPSILON IS DECAYING (SEE epsilon_f BELOW)\n",
        "gamma = 0.85        # THE DISCOUNT FACTOR\n",
        "eta = 0.0035        # THE LEARNING RATE\n",
        "\n",
        "N_episodes = 100000 # THE NUMBER OF GAMES TO BE PLAYED \n",
        "\n",
        "# SAVING VARIABLES\n",
        "R_save = np.zeros([N_episodes, 1])\n",
        "N_moves_save = np.zeros([N_episodes, 1])\n"
      ]
    },
    {
      "cell_type": "code",
      "execution_count": 22,
      "id": "e6ba1f84",
      "metadata": {
        "colab": {
          "base_uri": "https://localhost:8080/",
          "height": 390
        },
        "id": "e6ba1f84",
        "outputId": "ea2b9613-60dc-40d8-9a2d-324fb0252349"
      },
      "outputs": [
        {
          "output_type": "error",
          "ename": "KeyboardInterrupt",
          "evalue": "ignored",
          "traceback": [
            "\u001b[0;31m---------------------------------------------------------------------------\u001b[0m",
            "\u001b[0;31mKeyboardInterrupt\u001b[0m                         Traceback (most recent call last)",
            "\u001b[0;32m<ipython-input-22-56073f329a2d>\u001b[0m in \u001b[0;36m<module>\u001b[0;34m()\u001b[0m\n\u001b[1;32m     18\u001b[0m         \u001b[0ma\u001b[0m\u001b[0;34m,\u001b[0m\u001b[0m_\u001b[0m\u001b[0;34m=\u001b[0m\u001b[0mnp\u001b[0m\u001b[0;34m.\u001b[0m\u001b[0mwhere\u001b[0m\u001b[0;34m(\u001b[0m\u001b[0mallowed_a\u001b[0m\u001b[0;34m==\u001b[0m\u001b[0;36m1\u001b[0m\u001b[0;34m)\u001b[0m\u001b[0;34m\u001b[0m\u001b[0;34m\u001b[0m\u001b[0m\n\u001b[1;32m     19\u001b[0m \u001b[0;34m\u001b[0m\u001b[0m\n\u001b[0;32m---> 20\u001b[0;31m         \u001b[0mQ\u001b[0m\u001b[0;34m,\u001b[0m \u001b[0mout1\u001b[0m \u001b[0;34m=\u001b[0m \u001b[0mQ_values\u001b[0m\u001b[0;34m(\u001b[0m\u001b[0mX\u001b[0m\u001b[0;34m.\u001b[0m\u001b[0mreshape\u001b[0m\u001b[0;34m(\u001b[0m\u001b[0;34m(\u001b[0m\u001b[0;34m-\u001b[0m\u001b[0;36m1\u001b[0m\u001b[0;34m,\u001b[0m\u001b[0;36m1\u001b[0m\u001b[0;34m)\u001b[0m\u001b[0;34m)\u001b[0m\u001b[0;34m,\u001b[0m \u001b[0mW1\u001b[0m\u001b[0;34m,\u001b[0m \u001b[0mW2\u001b[0m\u001b[0;34m,\u001b[0m \u001b[0mbias_W1\u001b[0m\u001b[0;34m,\u001b[0m \u001b[0mbias_W2\u001b[0m\u001b[0;34m)\u001b[0m\u001b[0;34m\u001b[0m\u001b[0;34m\u001b[0m\u001b[0m\n\u001b[0m\u001b[1;32m     21\u001b[0m \u001b[0;34m\u001b[0m\u001b[0m\n\u001b[1;32m     22\u001b[0m         \u001b[0mprob\u001b[0m \u001b[0;34m=\u001b[0m \u001b[0mnp\u001b[0m\u001b[0;34m.\u001b[0m\u001b[0mrandom\u001b[0m\u001b[0;34m.\u001b[0m\u001b[0mrand\u001b[0m\u001b[0;34m(\u001b[0m\u001b[0;34m)\u001b[0m\u001b[0;34m\u001b[0m\u001b[0;34m\u001b[0m\u001b[0m\n",
            "\u001b[0;32m<ipython-input-4-3aa8a746ccf6>\u001b[0m in \u001b[0;36mQ_values\u001b[0;34m(x, W1, W2, bias_W1, bias_W2)\u001b[0m\n\u001b[1;32m      2\u001b[0m \u001b[0;34m\u001b[0m\u001b[0m\n\u001b[1;32m      3\u001b[0m     \u001b[0;31m# Neural activation: input layer -> hidden layer\u001b[0m\u001b[0;34m\u001b[0m\u001b[0;34m\u001b[0m\u001b[0;34m\u001b[0m\u001b[0m\n\u001b[0;32m----> 4\u001b[0;31m     \u001b[0mact1\u001b[0m \u001b[0;34m=\u001b[0m \u001b[0mnp\u001b[0m\u001b[0;34m.\u001b[0m\u001b[0mdot\u001b[0m\u001b[0;34m(\u001b[0m\u001b[0mW1\u001b[0m\u001b[0;34m,\u001b[0m \u001b[0mx\u001b[0m\u001b[0;34m)\u001b[0m \u001b[0;34m+\u001b[0m \u001b[0mbias_W1\u001b[0m\u001b[0;34m\u001b[0m\u001b[0;34m\u001b[0m\u001b[0m\n\u001b[0m\u001b[1;32m      5\u001b[0m     \u001b[0;31m# print(act1)\u001b[0m\u001b[0;34m\u001b[0m\u001b[0;34m\u001b[0m\u001b[0;34m\u001b[0m\u001b[0m\n\u001b[1;32m      6\u001b[0m     \u001b[0mout1\u001b[0m \u001b[0;34m=\u001b[0m  \u001b[0mnp\u001b[0m\u001b[0;34m.\u001b[0m\u001b[0mmaximum\u001b[0m\u001b[0;34m(\u001b[0m\u001b[0mact1\u001b[0m\u001b[0;34m,\u001b[0m \u001b[0;36m0\u001b[0m\u001b[0;34m)\u001b[0m\u001b[0;34m\u001b[0m\u001b[0;34m\u001b[0m\u001b[0m\n",
            "\u001b[0;32m<__array_function__ internals>\u001b[0m in \u001b[0;36mdot\u001b[0;34m(*args, **kwargs)\u001b[0m\n",
            "\u001b[0;31mKeyboardInterrupt\u001b[0m: "
          ]
        }
      ],
      "source": [
        "# TRAINING LOOP BONE STRUCTURE...\n",
        "# I WROTE FOR YOU A RANDOM AGENT (THE RANDOM AGENT WILL BE SLOWER TO GIVE CHECKMATE THAN AN OPTIMISED ONE, \n",
        "# SO DON'T GET CONCERNED BY THE TIME IT TAKES), CHANGE WITH YOURS ...\n",
        "# SARSA\n",
        "for n in range(N_episodes):\n",
        "\n",
        "    epsilon_f = epsilon_0 / (1 + beta * n)   ## DECAYING EPSILON\n",
        "    Done=0                                   ## SET DONE TO ZERO (BEGINNING OF THE EPISODE)\n",
        "    i = 1                                    ## COUNTER FOR NUMBER OF ACTIONS\n",
        "    \n",
        "    S,X,allowed_a=env.Initialise_game()      ## INITIALISE GAME\n",
        "    \n",
        "    while Done==0:                           ## START THE EPISODE\n",
        "        \n",
        "        \n",
        "        ## THIS IS A RANDOM AGENT, CHANGE IT...\n",
        "        \n",
        "        a,_=np.where(allowed_a==1)\n",
        "\n",
        "        Q, out1 = Q_values(X.reshape((-1,1)), W1, W2, bias_W1, bias_W2)\n",
        "\n",
        "        prob = np.random.rand()\n",
        "            # prob = 1 #for q learning\n",
        "\n",
        "        Q_a = Q[a] #the q values of allowed actions\n",
        "\n",
        "        if prob>epsilon_f:\n",
        "            a_agent = a[np.argmax(Q_a)]\n",
        "        else:\n",
        "            # choose random value\n",
        "            ranChoice = np.random.randint(0, a.size)\n",
        "            a_agent = a[ranChoice]\n",
        "                \n",
        "        S_next,X_next,allowed_a_next,R,Done=env.OneStep(a_agent)\n",
        "        \n",
        "        ## THE EPISODE HAS ENDED, UPDATE...BE CAREFUL, THIS IS THE LAST STEP OF THE EPISODE\n",
        "        if Done==1:\n",
        "            b1 = R - Q[a_agent]\n",
        "            R_save[n,:] = (1/10000) * R + (1 - (1/10000)) * R_save[n-1,:]\n",
        "            N_moves_save[n,:] = (1/10000) * i + (1 - (1/10000)) * N_moves_save[n-1,:]\n",
        "        \n",
        "        \n",
        "        \n",
        "        \n",
        "        # IF THE EPISODE IS NOT OVER...\n",
        "        else:\n",
        "            \n",
        "            Q_next, _ = Q_values(X_next.reshape((-1,1)), W1, W2, bias_W1, bias_W2)\n",
        "\n",
        "\n",
        "            an,_=np.where(allowed_a_next==1)\n",
        "            # Sarsa\n",
        "            prob = np.random.rand()\n",
        "            # prob = 1 #for q learning\n",
        "\n",
        "            Q_an = Q_next[an] #the q values of allowed actions\n",
        "\n",
        "            # if prob>epsilon_f:\n",
        "            #     an_agent = an[np.argmax(Q_an)]\n",
        "            # else:\n",
        "            #     # choose random value\n",
        "            #     ranChoice = np.random.randint(0, an.size)\n",
        "            #     an_agent = an[ranChoice]\n",
        "            # # Sr\n",
        "            # b1 = (R + gamma * Q_next[an_agent]) - Q[a_agent]\n",
        "            # Q learning\n",
        "            b1 = (R + gamma * max(Q_next[an]) - Q[a_agent])\n",
        "            # q -> max(Q_next[an])\n",
        "\n",
        "        delta2 = b1 * np.heaviside(Q, 0)\n",
        "        delta1 = np.dot(W2.T, delta2) * np.heaviside(out1, 0)\n",
        "\n",
        "        W2 += eta * np.outer(delta2, out1)\n",
        "        W1 += eta * np.outer(delta1, X)\n",
        "\n",
        "        bias_W2 += eta * delta2\n",
        "        bias_W1 += eta * delta1\n",
        "            \n",
        "        # NEXT STATE AND CO. BECOME ACTUAL STATE...     \n",
        "        S=np.copy(S_next)\n",
        "        X=np.copy(X_next)\n",
        "        allowed_a=np.copy(allowed_a_next)\n",
        "        \n",
        "        i += 1  # UPDATE COUNTER FOR NUMBER OF ACTIONS\n",
        "\n",
        "        \n",
        "        \n",
        "    \n",
        "    "
      ]
    },
    {
      "cell_type": "code",
      "execution_count": 23,
      "id": "b288ad57",
      "metadata": {
        "colab": {
          "base_uri": "https://localhost:8080/",
          "height": 282
        },
        "id": "b288ad57",
        "outputId": "66113631-1380-4713-fb54-1b23985c57b5"
      },
      "outputs": [
        {
          "output_type": "display_data",
          "data": {
            "text/plain": [
              "<Figure size 432x288 with 2 Axes>"
            ],
            "image/png": "[encoded data removed]"
          },
          "metadata": {}
        }
      ],
      "source": [
        "fig, ax1 = plt.subplots()\n",
        "\n",
        "color=list(plt.rcParams['axes.prop_cycle'])[1]['color']\n",
        "ax1.set_xlabel('Game')\n",
        "ax1.set_ylabel('Reward', color=color)\n",
        "ax1.plot(R_save,color=color,label='Reward')\n",
        "\n",
        "ax1.tick_params(axis='y', labelcolor=color)\n",
        "\n",
        "ax2 = ax1.twinx()  # instantiate a second axes that shares the same x-axis\n",
        "\n",
        "color=list(plt.rcParams['axes.prop_cycle'])[0]['color']\n",
        "\n",
        "lines, labels = ax1.get_legend_handles_labels()\n",
        "lines2, labels2 = ax2.get_legend_handles_labels()\n",
        "ax2.legend(lines + lines2, labels + labels2, loc=0)\n",
        "\n",
        "\n",
        "plt.show()"
      ]
    },
    {
      "cell_type": "code",
      "source": [
        "fig, ax1 = plt.subplots()\n",
        "\n",
        "\n",
        "color=list(plt.rcParams['axes.prop_cycle'])[2]['color']\n",
        "ax1.set_xlabel('Game')\n",
        "ax1.set_ylabel('Moves', color=color)\n",
        "\n",
        "ax1.plot(N_moves_save,color=color,label='Moves')\n",
        "\n",
        "ax1.tick_params(axis='y', labelcolor=color)\n",
        "\n",
        "ax2 = ax1.twinx()  # instantiate a second axes that shares the same x-axis\n",
        "\n",
        "color=list(plt.rcParams['axes.prop_cycle'])[0]['color']\n",
        "\n",
        "lines, labels = ax1.get_legend_handles_labels()\n",
        "lines2, labels2 = ax2.get_legend_handles_labels()\n",
        "ax2.legend(lines + lines2, labels + labels2, loc=0)\n",
        "\n",
        "\n",
        "plt.show()"
      ],
      "metadata": {
        "colab": {
          "base_uri": "https://localhost:8080/",
          "height": 282
        },
        "id": "w071XIQSsfsQ",
        "outputId": "900045b0-7245-4ba8-fa4a-d66568bb194f"
      },
      "id": "w071XIQSsfsQ",
      "execution_count": 24,
      "outputs": [
        {
          "output_type": "display_data",
          "data": {
            "text/plain": [
              "<Figure size 432x288 with 2 Axes>"
            ],
            "image/png": "[encoded data removed]"
          },
          "metadata": {
            "needs_background": "light"
          }
        }
      ]
    },
    {
      "cell_type": "code",
      "source": [
        ""
      ],
      "metadata": {
        "id": "VcEcCPEz9ZeN"
      },
      "id": "VcEcCPEz9ZeN",
      "execution_count": null,
      "outputs": []
    }
  ],
  "metadata": {
    "kernelspec": {
      "display_name": "Python 3 (ipykernel)",
      "language": "python",
      "name": "python3"
    },
    "language_info": {
      "codemirror_mode": {
        "name": "ipython",
        "version": 3
      },
      "file_extension": ".py",
      "mimetype": "text/x-python",
      "name": "python",
      "nbconvert_exporter": "python",
      "pygments_lexer": "ipython3",
      "version": "3.8.12"
    },
    "colab": {
      "name": "Assignment (1).ipynb",
      "provenance": []
    }
  },
  "nbformat": 4,
  "nbformat_minor": 5
}